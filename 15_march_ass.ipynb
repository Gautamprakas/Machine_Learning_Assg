{
 "cells": [
  {
   "cell_type": "code",
   "execution_count": null,
   "id": "8ba35f1f-d055-47c1-84cd-3d7daa44f088",
   "metadata": {},
   "outputs": [],
   "source": [
    "'''QD- E=plain thK following with an example.\n",
    "1) Artificial Intelligence-Artificial intelligence is the simulation of human intelligence processes by machines,\n",
    "especially computer systems. Specific applications of AI include expert systems, natural language processing, speech \n",
    "recognition and machine vision.\n",
    "Example-We can say AI is the final product like alexa,robots etc.\n",
    "\n",
    "2) Machine Learning-Machine learning is a subfield of artificial intelligence, which is broadly defined as the capability \n",
    "of a machine to imitate intelligent human behavior. Artificial intelligence systems are used to perform complex tasks in a way\n",
    "that is similar to how humans solve problems.\n",
    "Example-House prediction system,Score prediction system etc\n",
    "3) Deep Learning-Deep learning is a subset of machine learning, which is essentially a neural network with three or more \n",
    "layers. These neural networks attempt to simulate the behavior of the human brain—albeit far from matching its ability—allowing\n",
    "it to “learn” from large amounts of data.\n",
    "Example-Chatbots and service bots, Image colorization. , Facial recognition etc.'''"
   ]
  },
  {
   "cell_type": "code",
   "execution_count": null,
   "id": "cdb3ecd1-44d5-46ae-8dd1-0973af062dc1",
   "metadata": {},
   "outputs": [],
   "source": [
    "'''Q2- What is supervised learning? List some examples of supervised learning.\n",
    "Answer-Supervised learning, also known as supervised machine learning, is a subcategory of machine learning and artificial \n",
    "intelligence. It is defined by its use of labeled datasets to train algorithms that to classify data or predict outcomes \n",
    "accurately. As input data is fed into the model, it adjusts its weights until the model has been fitted appropriately,\n",
    "which occurs as part of the cross validation process. Supervised learning helps organizations solve for a variety of\n",
    "real-world problems at scale, such as classifying spam in a separate folder from your inbox.\n",
    "\n",
    "Examples-text classification,spam or ham classification.'''"
   ]
  },
  {
   "cell_type": "code",
   "execution_count": null,
   "id": "6fb72e70-25d2-4ecf-9e12-f2b47734edac",
   "metadata": {},
   "outputs": [],
   "source": [
    "'''Q3-What is unsupervised learning? List some examples of unsupervised learning.\n",
    "Answer-Unsupervised learning, also known as unsupervised machine learning, uses machine learning algorithms to analyze and \n",
    "cluster unlabeled datasets. These algorithms discover hidden patterns or data groupings without the need for human \n",
    "intervention.\n",
    "\n",
    "Example-dimesion reductin,clustering and image classification etc.'''\n"
   ]
  },
  {
   "cell_type": "code",
   "execution_count": null,
   "id": "d952878c-d5c3-4915-a012-9f23823a1fc9",
   "metadata": {},
   "outputs": [],
   "source": [
    "'''Q4- What is the difference between AI, ML, DL, and DS?\n",
    "Answer-Machine Learning (ML) is a subset of AI; it provides us statistical tools/techniques like Supervised, Unsupervised, \n",
    "and Reinforcement learning to explore and analyze the data.Deep Learning (DL) is further a subset of ML, and the main \n",
    "idea behind it is to make machines learn by mimicking the human brain.\n",
    "While the data science can consist of each or all parts of these technologies like AI,ML,DL .'''"
   ]
  },
  {
   "cell_type": "code",
   "execution_count": null,
   "id": "68417f7e-e475-4396-bfce-01bf03d3ce26",
   "metadata": {},
   "outputs": [],
   "source": [
    "'''Q5- What are the main differencKs between supervised, unsupervised, and semi-supervised learning?\n",
    "Amswer-The biggest difference between supervised and unsupervised machine learning is: Supervised machine learning \n",
    "algorithms are trained on datasets that include labels added by a machine learning engineer or data scientist that guide the \n",
    "algorithm to understand which features are important to the problem at hand. This is a very costly process, especially when \n",
    "dealing with large volumes of data.Unsupervised machine learning algorithms, on the other hand, are trained on unlabeled data \n",
    "and must determine feature importance on their own based on inherent patterns in the data, The most basic disadvantage of any \n",
    "Unsupervised Learning is that it’s application spectrum is limited.\n",
    "To counter these disadvantages, the concept of Semi-Supervised Learning was introduced. In this type of learning, the \n",
    "algorithm is trained upon a combination of labeled and unlabeled data. Typically, this combination will contain a very \n",
    "small amount of labeled data and a very large amount of unlabeled data.\n",
    "\n",
    "The main difference in simple words we can say that in supervised learnng we have labeled data and a specific output according to\n",
    "independent feature but in unsupervised learning we dont have labeled data we  have unlabeled data used in clustering,classification\n",
    "and in semi supervised learning we have labeled as well as unlabeled data.'''"
   ]
  },
  {
   "cell_type": "code",
   "execution_count": null,
   "id": "a074e2ec-d938-4d30-a874-65d36a2a8878",
   "metadata": {},
   "outputs": [],
   "source": [
    "'''Q6- What is train, test and validation split? Explain the importance of each term.\n",
    "\n",
    "Answer-We have large dataset and we have to train and test the model based on this dataset so we devide the dataset in two parts\n",
    "train and test .\n",
    "Training Dataset: The sample of data used to fit the model.This dataset is used to train the model it takes almost 80 percent \n",
    "of the total data.The more the data we have to train the more accurate the model is.\n",
    "\n",
    "Validation Dataset: The sample of data used to provide an unbiased evaluation of a model fit on the training dataset \n",
    "while tuning model hyperparameters. The evaluation becomes more biased as skill on the validation dataset is incorporated into the model configuration.\n",
    "\n",
    "Test Dataset: The sample of data used to provide an unbiased evaluation of a final model fit on the training dataset.\n",
    "Test dataset is used to test the accuracy of the model by the R squre and Adjusted R squrare value by the accuracy of the model\n",
    "we can choose which algorith is giving the correct output.\n",
    "\n",
    "Below are some additional clarifying notes:\n",
    "\n",
    "The validation dataset may also play a role in other forms of model preparation, such as feature selection.\n",
    "The final model could be fit on the aggregate of the training and validation datasets.'''"
   ]
  },
  {
   "cell_type": "code",
   "execution_count": null,
   "id": "b6be0a50-dc48-4582-9dc0-75330100cb8a",
   "metadata": {},
   "outputs": [],
   "source": [
    "'''Q8- List down some commonly used supervised learning algorithms and unsupervised learning algorithms.?\n",
    "Answer-\n",
    "Commonly used supervised learning algorithm:\n",
    "Linear Regression\n",
    "Logistical Regression\n",
    "Random Forest\n",
    "Gradient Boosted Trees\n",
    "Support Vector Machines (SVM)\n",
    "Neural Networks\n",
    "Decision Trees\n",
    "Naive Bayes\n",
    "Nearest Neighbor\n",
    "\n",
    "Commonly used \n",
    "\n",
    "'''"
   ]
  }
 ],
 "metadata": {
  "kernelspec": {
   "display_name": "Python 3 (ipykernel)",
   "language": "python",
   "name": "python3"
  },
  "language_info": {
   "codemirror_mode": {
    "name": "ipython",
    "version": 3
   },
   "file_extension": ".py",
   "mimetype": "text/x-python",
   "name": "python",
   "nbconvert_exporter": "python",
   "pygments_lexer": "ipython3",
   "version": "3.10.8"
  }
 },
 "nbformat": 4,
 "nbformat_minor": 5
}
